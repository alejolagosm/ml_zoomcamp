{
  "nbformat": 4,
  "nbformat_minor": 0,
  "metadata": {
    "colab": {
      "provenance": [],
      "collapsed_sections": []
    },
    "kernelspec": {
      "name": "python3",
      "display_name": "Python 3"
    },
    "language_info": {
      "name": "python"
    },
    "accelerator": "GPU"
  },
  "cells": [
    {
      "cell_type": "markdown",
      "source": [
        "**HOMEWORK**  \n",
        "\n",
        "The goal of this homework is to create a regression model for predicting housing prices (column 'median_house_value').  \n",
        "\n",
        "In this homework we'll again use the California Housing Prices dataset - the same one we used in homework 2 and 3."
      ],
      "metadata": {
        "id": "-JrenrSGmAeg"
      }
    },
    {
      "cell_type": "code",
      "execution_count": 2,
      "metadata": {
        "id": "nLosiCNJUjDM"
      },
      "outputs": [],
      "source": [
        "#@ IMPORTING LIBRARIES AND DEPENDENCIES:\n",
        "import re\n",
        "import numpy as np\n",
        "import pandas as pd\n",
        "import seaborn as sns\n",
        "import xgboost as xgb\n",
        "import matplotlib.pyplot as plt\n",
        "from tqdm.auto import tqdm\n",
        "from sklearn.tree import DecisionTreeRegressor\n",
        "from sklearn.tree import export_text\n",
        "from sklearn.feature_extraction import DictVectorizer\n",
        "from sklearn.model_selection import train_test_split\n",
        "from sklearn.ensemble import RandomForestRegressor\n",
        "from sklearn.metrics import mean_squared_error\n",
        "\n",
        "%matplotlib inline"
      ]
    },
    {
      "cell_type": "code",
      "source": [
        "#@ DOWNLOADING THE DATASET: UNCOMMENT BELOW:\n",
        "!wget https://raw.githubusercontent.com/alexeygrigorev/datasets/master/housing.csv"
      ],
      "metadata": {
        "id": "4Psk224nnyIF",
        "colab": {
          "base_uri": "https://localhost:8080/"
        },
        "outputId": "afab8204-bead-4d25-cdbd-01ec5d023aa7"
      },
      "execution_count": 3,
      "outputs": [
        {
          "output_type": "stream",
          "name": "stdout",
          "text": [
            "--2022-10-16 21:08:33--  https://raw.githubusercontent.com/alexeygrigorev/datasets/master/housing.csv\n",
            "Resolving raw.githubusercontent.com (raw.githubusercontent.com)... 185.199.111.133, 185.199.108.133, 185.199.109.133, ...\n",
            "Connecting to raw.githubusercontent.com (raw.githubusercontent.com)|185.199.111.133|:443... connected.\n",
            "HTTP request sent, awaiting response... 200 OK\n",
            "Length: 1423529 (1.4M) [text/plain]\n",
            "Saving to: ‘housing.csv’\n",
            "\n",
            "housing.csv         100%[===================>]   1.36M  --.-KB/s    in 0.007s  \n",
            "\n",
            "2022-10-16 21:08:36 (199 MB/s) - ‘housing.csv’ saved [1423529/1423529]\n",
            "\n"
          ]
        }
      ]
    },
    {
      "cell_type": "code",
      "source": [
        "#@ READING DATASET:\n",
        "PATH = \"./housing.csv\"\n",
        "select_cols = [\"longitude\", \"latitude\", \"housing_median_age\", \"total_rooms\", \"total_bedrooms\", \"population\", \"households\", \n",
        "               \"median_income\", \"median_house_value\", \"ocean_proximity\"]\n",
        "df = pd.read_csv(PATH, usecols=select_cols)\n",
        "df.total_bedrooms = df.total_bedrooms.fillna(0)"
      ],
      "metadata": {
        "id": "492Hn6-3n08G"
      },
      "execution_count": 4,
      "outputs": []
    },
    {
      "cell_type": "code",
      "source": [
        "df_copy = df.copy()"
      ],
      "metadata": {
        "id": "i4DyE3Moh0Uh"
      },
      "execution_count": 4,
      "outputs": []
    },
    {
      "cell_type": "markdown",
      "source": [
        "- Apply the log transform to `median_house_value`. \n",
        "- Do train/validation/test split with 60%/20%/20% distribution.\n",
        "- Use the `train_test_split` function and set the `random_state parameter` to 1."
      ],
      "metadata": {
        "id": "OqXppJ_Ro0H0"
      }
    },
    {
      "cell_type": "code",
      "source": [
        "df.median_house_value = np.log1p(df.median_house_value)"
      ],
      "metadata": {
        "id": "ik2bTHjnhkGm"
      },
      "execution_count": 5,
      "outputs": []
    },
    {
      "cell_type": "code",
      "source": [
        "#@ SPLITTING THE DATASET FOR TRAINING AND TEST:\n",
        "df_train_full, df_test = train_test_split(df, test_size=0.2, random_state=11)\n",
        "df_train, df_val = train_test_split(df_train_full, test_size=0.20, random_state=11)\n",
        "y_train = (df_train.median_house_value).values\n",
        "y_val = (df_val.median_house_value).values\n",
        "del df_train['median_house_value']\n",
        "del df_val['median_house_value']"
      ],
      "metadata": {
        "id": "W1MmdcRDpHS1"
      },
      "execution_count": 6,
      "outputs": []
    },
    {
      "cell_type": "markdown",
      "source": [
        "- We will use `DictVectorizer` to turn train and validation into matrices."
      ],
      "metadata": {
        "id": "5VKq8FX7qIVM"
      }
    },
    {
      "cell_type": "code",
      "source": [
        "#@ IMPLEMENTATION OF DICTVECTORIZER:\n",
        "dict_train = df_train.fillna(0).to_dict(orient='records')\n",
        "dict_val = df_val.fillna(0).to_dict(orient='records')\n",
        "dv = DictVectorizer(sparse=False)\n",
        "\n",
        "X_train = dv.fit_transform(dict_train)\n",
        "X_val = dv.transform(dict_val)"
      ],
      "metadata": {
        "id": "WnfFrWe9qtuc"
      },
      "execution_count": 7,
      "outputs": []
    },
    {
      "cell_type": "markdown",
      "source": [
        "**Question 1**\n",
        "\n",
        "Let's train a decision tree regressor to predict the `median_house_value` variable.\n",
        "\n",
        "Train a model with `max_depth=1`."
      ],
      "metadata": {
        "id": "qvxmhaD5hmAK"
      }
    },
    {
      "cell_type": "code",
      "source": [
        "#@ TRAINING THE REGRESSION MODEL:\n",
        "dt = DecisionTreeRegressor(max_depth=1)\n",
        "dt.fit(X_train, y_train)"
      ],
      "metadata": {
        "id": "cqBcSbpIq7kJ",
        "colab": {
          "base_uri": "https://localhost:8080/"
        },
        "outputId": "4f76114c-c05d-4289-e673-0d3410afb5b6"
      },
      "execution_count": 21,
      "outputs": [
        {
          "output_type": "execute_result",
          "data": {
            "text/plain": [
              "DecisionTreeRegressor(max_depth=1)"
            ]
          },
          "metadata": {},
          "execution_count": 21
        }
      ]
    },
    {
      "cell_type": "code",
      "source": [
        "list(zip(dv.feature_names_, dt.feature_importances_))"
      ],
      "metadata": {
        "colab": {
          "base_uri": "https://localhost:8080/"
        },
        "id": "R7BGmjuSive_",
        "outputId": "76631ab6-3b78-41f4-8003-588de8b368b2"
      },
      "execution_count": 22,
      "outputs": [
        {
          "output_type": "execute_result",
          "data": {
            "text/plain": [
              "[('households', 0.0),\n",
              " ('housing_median_age', 0.0),\n",
              " ('latitude', 0.0),\n",
              " ('longitude', 0.0),\n",
              " ('median_income', 0.0),\n",
              " ('ocean_proximity=<1H OCEAN', 0.0),\n",
              " ('ocean_proximity=INLAND', 1.0),\n",
              " ('ocean_proximity=ISLAND', 0.0),\n",
              " ('ocean_proximity=NEAR BAY', 0.0),\n",
              " ('ocean_proximity=NEAR OCEAN', 0.0),\n",
              " ('population', 0.0),\n",
              " ('total_bedrooms', 0.0),\n",
              " ('total_rooms', 0.0)]"
            ]
          },
          "metadata": {},
          "execution_count": 22
        }
      ]
    },
    {
      "cell_type": "markdown",
      "source": [
        "- Which feature is used for splitting the data?\n",
        "\n",
        "- Answer:"
      ],
      "metadata": {
        "id": "JNBm-qeRp6aZ"
      }
    },
    {
      "cell_type": "markdown",
      "source": [
        "**Question 2**\n",
        "\n",
        "Train a random forest model with these parameters:\n",
        "\n",
        "- `n_estimators=10`  \n",
        "- `random_state=1`  \n",
        "- `n_jobs=-1` (optional-to make training faster)"
      ],
      "metadata": {
        "id": "Xhnbdy-CqQoB"
      }
    },
    {
      "cell_type": "code",
      "source": [
        "#@ TRAINING RANDOM FOREST MODEL:\n",
        "rf = RandomForestRegressor(n_estimators=10,random_state=1,n_jobs=-1)\n",
        "rf.fit(X_train, y_train)\n",
        "y_pred = rf.predict(X_val)"
      ],
      "metadata": {
        "id": "2w-YSGYMisFt"
      },
      "execution_count": 24,
      "outputs": []
    },
    {
      "cell_type": "code",
      "source": [
        "#@ CALCULATING MEAN SQUARED ERROR:\n",
        "mean_squared_error(y_val, y_pred)"
      ],
      "metadata": {
        "id": "jCxUAO2Rq1Ps",
        "colab": {
          "base_uri": "https://localhost:8080/"
        },
        "outputId": "cff58b20-46ff-4ead-f7a3-a309a6d75cf6"
      },
      "execution_count": 26,
      "outputs": [
        {
          "output_type": "execute_result",
          "data": {
            "text/plain": [
              "0.05963473276236103"
            ]
          },
          "metadata": {},
          "execution_count": 26
        }
      ]
    },
    {
      "cell_type": "markdown",
      "source": [
        "- What's the RMSE of this model on validation?\n",
        "\n",
        "- Answer: "
      ],
      "metadata": {
        "id": "jfcDllHxrTqu"
      }
    },
    {
      "cell_type": "markdown",
      "source": [
        "**Question 3**\n",
        "\n",
        "Now, let's experiment with the `n_estimators` parameter.\n",
        "\n",
        "- Try different values of this parameter from 10 to 200 with step 10.\n",
        "- Set `random_state` to 1.\n",
        "- Evaluate the model on the validation dataset."
      ],
      "metadata": {
        "id": "Y7K69bFSrg_V"
      }
    },
    {
      "cell_type": "code",
      "source": [
        "#@ TRAINING THE RANDOM FOREST MODEL:\n",
        "mses= []\n",
        "for i in range(10, 201, 10):\n",
        "    rf = RandomForestRegressor(n_estimators=i,random_state=1,n_jobs=-1)\n",
        "    rf.fit(X_train, y_train)\n",
        "    y_pred = rf.predict(X_val)\n",
        "    mse = mean_squared_error(y_val, y_pred)\n",
        "    mses.append(mse)"
      ],
      "metadata": {
        "id": "-oUFCQwOrQNN"
      },
      "execution_count": 29,
      "outputs": []
    },
    {
      "cell_type": "code",
      "source": [
        "#@ INSPECTING THE RMSE SCORES:\n",
        "plt.figure(figsize=(6, 4))\n",
        "\n",
        "num_estim = list(range(10, 201, 10))\n",
        "\n",
        "plt.plot(num_estim, mses, color='black', linestyle='dotted')\n",
        "plt.xticks(range(0, 201, 50))\n",
        "plt.title('Number of estimators vs MSE')\n",
        "plt.xlabel('Number of estimators')\n",
        "plt.ylabel('AUC')\n",
        "\n",
        "plt.show()"
      ],
      "metadata": {
        "id": "3J-wFLh4s8Ky",
        "colab": {
          "base_uri": "https://localhost:8080/",
          "height": 295
        },
        "outputId": "69df2a6f-5da0-42f0-f9a8-12c486cc8e1c"
      },
      "execution_count": 32,
      "outputs": [
        {
          "output_type": "display_data",
          "data": {
            "text/plain": [
              "<Figure size 432x288 with 1 Axes>"
            ],
            "image/png": "[encoded data removed]"
          },
          "metadata": {
            "needs_background": "light"
          }
        }
      ]
    },
    {
      "cell_type": "markdown",
      "source": [
        "- After which value of `n_estimators` does RMSE stop improving?\n",
        "\n",
        "- Answer: "
      ],
      "metadata": {
        "id": "NAXZcW3AuC-d"
      }
    },
    {
      "cell_type": "markdown",
      "source": [
        "**Question 4**\n",
        "\n",
        "Let's select the best `max_depth`:\n",
        "\n",
        "- Try different values of `max_depth`: [10, 15, 20, 25].\n",
        "- For each of these values, try different values of n_estimators from 10 till 200 (with step 10).\n",
        "- Fix the random seed: `random_state=1`."
      ],
      "metadata": {
        "id": "CYhRv3kEvWjK"
      }
    },
    {
      "cell_type": "code",
      "source": [
        "#@ TRAINING THE MODEL WITH DEPTH:\n",
        "avg_mse = {}\n",
        "for depth in [10, 15, 20, 25]:\n",
        "    print('depth: %s' % depth)\n",
        "    mses= []\n",
        "    for i in range(10, 201, 10):\n",
        "        rf = RandomForestRegressor(n_estimators=i,random_state=1,n_jobs=-1, max_depth=depth)\n",
        "        rf.fit(X_train, y_train)\n",
        "        y_pred = rf.predict(X_val)\n",
        "        mse = mean_squared_error(y_val, y_pred)\n",
        "        mses.append(mse)\n",
        "    avg_mse[depth] = sum(mses)/len(mses)\n",
        "    print()\n",
        "\n",
        "print(avg_mse)"
      ],
      "metadata": {
        "id": "fO9TackKvKcS",
        "colab": {
          "base_uri": "https://localhost:8080/"
        },
        "outputId": "efa6662d-fe57-4293-b4d9-48508b49ece9"
      },
      "execution_count": 8,
      "outputs": [
        {
          "output_type": "stream",
          "name": "stdout",
          "text": [
            "depth: 10\n",
            "\n",
            "depth: 15\n",
            "\n",
            "depth: 20\n",
            "\n",
            "depth: 25\n",
            "\n",
            "{10: 0.0602702402459791, 15: 0.05338179942283107, 20: 0.052457961699073755, 25: 0.05242488962974223}\n"
          ]
        }
      ]
    },
    {
      "cell_type": "markdown",
      "source": [
        "- What's the best `max_depth`:\n",
        "\n",
        "- Answer:"
      ],
      "metadata": {
        "id": "eCRCaKlSwp7D"
      }
    },
    {
      "cell_type": "markdown",
      "source": [
        "**Question 5**\n",
        "\n",
        "We can extract feature importance information from tree-based models.\n",
        "\n",
        "At each step of the decision tree learning algorithm, it finds the best split. When doing it, we can calculate \"gain\" - the reduction in impurity before and after the split. This gain is quite useful in understanding what are the imporatant features for tree-based models.\n",
        "\n",
        "In Scikit-Learn, tree-based models contain this information in the `feature_importances_` field.\n",
        "\n",
        "For this homework question, we'll find the most important feature:\n",
        "\n",
        "Train the model with these parametes:\n",
        "- `n_estimators=10`,\n",
        "- `max_depth=20`,\n",
        "- `random_state=1`,\n",
        "- `n_jobs=-1` (optional)\n",
        "\n",
        "Get the feature importance information from this model"
      ],
      "metadata": {
        "id": "BDLbx3N5xAoY"
      }
    },
    {
      "cell_type": "code",
      "source": [
        "#@ TRAIING THE RANDOM FOREST MODEL:\n",
        "rf = RandomForestRegressor(n_estimators=10,random_state=1,n_jobs=-1, max_depth=20)\n",
        "rf.fit(X_train, y_train)\n",
        "rf.feature_importances_"
      ],
      "metadata": {
        "id": "UICqST2Qwhbj",
        "colab": {
          "base_uri": "https://localhost:8080/"
        },
        "outputId": "e1431926-8df8-4a86-80be-dc51ab72b3ec"
      },
      "execution_count": 9,
      "outputs": [
        {
          "output_type": "execute_result",
          "data": {
            "text/plain": [
              "array([0.01796627, 0.03328356, 0.1074051 , 0.08915241, 0.34578211,\n",
              "       0.00202774, 0.32763361, 0.        , 0.00063902, 0.00407032,\n",
              "       0.02968769, 0.01928168, 0.02307048])"
            ]
          },
          "metadata": {},
          "execution_count": 9
        }
      ]
    },
    {
      "cell_type": "code",
      "source": [
        "list(zip(dv.feature_names_, rf.feature_importances_))"
      ],
      "metadata": {
        "colab": {
          "base_uri": "https://localhost:8080/"
        },
        "id": "ShBh9LlgqBtj",
        "outputId": "9d58c2d1-38df-402c-d359-6787e20ed76f"
      },
      "execution_count": 11,
      "outputs": [
        {
          "output_type": "execute_result",
          "data": {
            "text/plain": [
              "[('households', 0.017966268227545115),\n",
              " ('housing_median_age', 0.03328356240403689),\n",
              " ('latitude', 0.1074051036496396),\n",
              " ('longitude', 0.0891524052646574),\n",
              " ('median_income', 0.3457821076452662),\n",
              " ('ocean_proximity=<1H OCEAN', 0.00202774330045024),\n",
              " ('ocean_proximity=INLAND', 0.32763361485515713),\n",
              " ('ocean_proximity=ISLAND', 0.0),\n",
              " ('ocean_proximity=NEAR BAY', 0.0006390238905990811),\n",
              " ('ocean_proximity=NEAR OCEAN', 0.00407032439766971),\n",
              " ('population', 0.029687688860498475),\n",
              " ('total_bedrooms', 0.019281678750385355),\n",
              " ('total_rooms', 0.023070478754094865)]"
            ]
          },
          "metadata": {},
          "execution_count": 11
        }
      ]
    },
    {
      "cell_type": "markdown",
      "source": [
        "- What's the most important feature?\n",
        "\n",
        "- Answer:"
      ],
      "metadata": {
        "id": "kSCqlx9jye1s"
      }
    },
    {
      "cell_type": "markdown",
      "source": [
        "**Question 6**\n",
        "\n",
        "Now let's train an XGBoost model! For this question, we'll tune the eta parameter:\n",
        "\n",
        "- Install XGBoost.\n",
        "- Create DMatrix for train and validation\n",
        "- Create a watchlist\n",
        "- Train a model with these parameters for 100 rounds:\n",
        "\n",
        "\n",
        "xgb_params = {  \n",
        "    'eta': 0.3,  \n",
        "    'max_depth': 6,  \n",
        "    'min_child_weight': 1,  \n",
        "    'objective': 'reg:squarederror',\n",
        "    'nthread': 8,\n",
        "    'seed': 1,\n",
        "    'verbosity': 1,\n",
        "    \n",
        "}"
      ],
      "metadata": {
        "id": "K5KEdiTMzPaI"
      }
    },
    {
      "cell_type": "code",
      "source": [
        "#@ CREATING THE DMARTIX:\n",
        "features = dv.feature_names_\n",
        "regex = re.compile(r\"<\", re.IGNORECASE)\n",
        "features = [regex.sub(\"_\", col) if any(x in str(col) for x in set(('[', ']', '<'))) else col for col in features]\n",
        "dtrain = xgb.DMatrix(X_train, label=y_train, feature_names=features)\n",
        "dval = xgb.DMatrix(X_val, label=y_val, feature_names=features)"
      ],
      "metadata": {
        "id": "TUP0uoL5yZTc"
      },
      "execution_count": 12,
      "outputs": []
    },
    {
      "cell_type": "code",
      "source": [
        "xgb_params = {  \n",
        "    'eta': 0.3,  \n",
        "    'max_depth': 6,  \n",
        "    'min_child_weight': 1,  \n",
        "    'objective': 'reg:squarederror',\n",
        "    'nthread': 8,\n",
        "    'seed': 1,\n",
        "    'verbosity': 1,\n",
        "}"
      ],
      "metadata": {
        "id": "lRRzLznP-Z-Q"
      },
      "execution_count": 13,
      "outputs": []
    },
    {
      "cell_type": "code",
      "source": [
        "model = xgb.train(xgb_params, dtrain, num_boost_round=100)\n",
        "y_pred = model.predict(dval)\n",
        "mse = mean_squared_error(y_val, y_pred)\n",
        "print(mse)"
      ],
      "metadata": {
        "colab": {
          "base_uri": "https://localhost:8080/"
        },
        "id": "jdPfMEqMogH9",
        "outputId": "3294bbea-cfa9-481b-f236-a574ba70acc9"
      },
      "execution_count": 14,
      "outputs": [
        {
          "output_type": "stream",
          "name": "stdout",
          "text": [
            "0.04965754129834627\n"
          ]
        }
      ]
    },
    {
      "cell_type": "markdown",
      "source": [
        "- Now, change eta first to 0.1 and then to 0.01."
      ],
      "metadata": {
        "id": "3RmcQ1BQ64X-"
      }
    },
    {
      "cell_type": "code",
      "source": [
        "xgb_params = {  \n",
        "    'eta': 0.1,  \n",
        "    'max_depth': 6,  \n",
        "    'min_child_weight': 1,  \n",
        "    'objective': 'reg:squarederror',\n",
        "    'nthread': 8,\n",
        "    'seed': 1,\n",
        "    'verbosity': 1,\n",
        "}\n",
        "model = xgb.train(xgb_params, dtrain, num_boost_round=100)\n",
        "y_pred = model.predict(dval)\n",
        "mse = mean_squared_error(y_val, y_pred)\n",
        "print(mse)"
      ],
      "metadata": {
        "colab": {
          "base_uri": "https://localhost:8080/"
        },
        "id": "h5JYTVgfohh7",
        "outputId": "6938bba7-c5bc-427a-bffe-87b4452d6fc2"
      },
      "execution_count": 15,
      "outputs": [
        {
          "output_type": "stream",
          "name": "stdout",
          "text": [
            "0.05047572105858091\n"
          ]
        }
      ]
    },
    {
      "cell_type": "code",
      "source": [
        "xgb_params = {  \n",
        "    'eta': 0.01,  \n",
        "    'max_depth': 6,  \n",
        "    'min_child_weight': 1,  \n",
        "    'objective': 'reg:squarederror',\n",
        "    'nthread': 8,\n",
        "    'seed': 1,\n",
        "    'verbosity': 1,\n",
        "}\n",
        "model = xgb.train(xgb_params, dtrain, num_boost_round=100)\n",
        "y_pred = model.predict(dval)\n",
        "mse = mean_squared_error(y_val, y_pred)\n",
        "print(mse)"
      ],
      "metadata": {
        "colab": {
          "base_uri": "https://localhost:8080/"
        },
        "id": "iWhCitEhooHS",
        "outputId": "b18d13a2-e5a7-41ff-fc14-1f36356e2765"
      },
      "execution_count": 16,
      "outputs": [
        {
          "output_type": "stream",
          "name": "stdout",
          "text": [
            "18.195941523778743\n"
          ]
        }
      ]
    },
    {
      "cell_type": "markdown",
      "source": [
        "- Which eta leads to the best RMSE score on the validation dataset?\n",
        "\n",
        "- Answer:"
      ],
      "metadata": {
        "id": "Yl6Xn6Zb76iH"
      }
    }
  ]
}